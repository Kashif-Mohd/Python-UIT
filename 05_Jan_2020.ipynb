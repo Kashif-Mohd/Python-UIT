{
 "cells": [
  {
   "cell_type": "markdown",
   "metadata": {},
   "source": [
    "# Nested For Loop"
   ]
  },
  {
   "cell_type": "code",
   "execution_count": 18,
   "metadata": {},
   "outputs": [
    {
     "name": "stdout",
     "output_type": "stream",
     "text": [
      "Enter First Table 2\n",
      "Enter Last Table 6\n",
      "\n",
      "\n",
      "2 * 1 = 2\n",
      "2 * 2 = 4\n",
      "2 * 3 = 6\n",
      "2 * 4 = 8\n",
      "2 * 5 = 10\n",
      "2 * 6 = 12\n",
      "2 * 7 = 14\n",
      "2 * 8 = 16\n",
      "2 * 9 = 18\n",
      "2 * 10 = 20\n",
      "\n",
      "\n",
      "\n",
      "\n",
      "4 * 1 = 4\n",
      "4 * 2 = 8\n",
      "4 * 3 = 12\n",
      "4 * 4 = 16\n",
      "4 * 5 = 20\n",
      "4 * 6 = 24\n",
      "4 * 7 = 28\n",
      "4 * 8 = 32\n",
      "4 * 9 = 36\n",
      "4 * 10 = 40\n",
      "\n",
      "\n",
      "5 * 1 = 5\n",
      "5 * 2 = 10\n",
      "5 * 3 = 15\n",
      "5 * 4 = 20\n",
      "5 * 5 = 25\n",
      "5 * 6 = 30\n",
      "5 * 7 = 35\n",
      "5 * 8 = 40\n",
      "5 * 9 = 45\n",
      "5 * 10 = 50\n",
      "\n",
      "\n",
      "6 * 1 = 6\n",
      "6 * 2 = 12\n",
      "6 * 3 = 18\n",
      "6 * 4 = 24\n",
      "6 * 5 = 30\n",
      "6 * 6 = 36\n",
      "6 * 7 = 42\n",
      "6 * 8 = 48\n",
      "6 * 9 = 54\n",
      "6 * 10 = 60\n"
     ]
    }
   ],
   "source": [
    "First_Table= int(input(\"Enter First Table \"))\n",
    "Last_Table= int(input(\"Enter Last Table \"))\n",
    "\n",
    "for Usama in range(First_Table,Last_Table+1):\n",
    "        print(\"\\n\")            \n",
    "        \n",
    "        for j in range(1,11):\n",
    "            if(Usama!=3):\n",
    "                print(str(Usama)+\" * \"+str(j)+\" = \"+str(Usama*j))\n",
    "            \n",
    "    "
   ]
  },
  {
   "cell_type": "markdown",
   "metadata": {},
   "source": [
    "# Unpacked Tuple or List"
   ]
  },
  {
   "cell_type": "code",
   "execution_count": 29,
   "metadata": {},
   "outputs": [
    {
     "name": "stdout",
     "output_type": "stream",
     "text": [
      "1\n",
      "2\n",
      "3\n",
      "4\n",
      "usama khan\n",
      "\n",
      "kashan\n",
      "hina rana\n",
      "saleem\n",
      "5\n",
      "6\n"
     ]
    }
   ],
   "source": [
    "list_value=[1,2,3,4,'usama khan']\n",
    "tuple_value=('kashan','hina rana','saleem',5,6)\n",
    "\n",
    "aa,ab,ac,ad,ae=list_value\n",
    "ba,bb,bc,bd,be=tuple_value\n",
    "\n",
    "\n",
    "print(aa)\n",
    "print(ab)\n",
    "print(ac)\n",
    "print(ad)\n",
    "print(ae)\n",
    "\n",
    "print(\"\\n\" +ba)\n",
    "print(bb)\n",
    "print(bc)\n",
    "print(bd)\n",
    "print(be)\n",
    "\n",
    "\n"
   ]
  },
  {
   "cell_type": "markdown",
   "metadata": {},
   "source": [
    "# Task"
   ]
  },
  {
   "cell_type": "code",
   "execution_count": null,
   "metadata": {},
   "outputs": [
    {
     "name": "stdout",
     "output_type": "stream",
     "text": [
      "Enter Your Pizza Size: large\n"
     ]
    }
   ],
   "source": [
    "Pizza_Size = ['Large','Medium','Small']\n",
    "Pizza_Flavour = ['Fajita','Tikka','Supreme']\n",
    "Pizza_Topping = ['Cheese','Pepperoni','Onion','Olive','Mashroom']\n",
    "\n",
    "\n",
    "\n",
    "Size=input(\"Enter Your Pizza Size: \").capitalize() \n",
    "\n",
    "if(Size in Pizza_Size):\n",
    "    Topping=input(\"Enter Your Pizza Flavour: \")\n",
    "\n",
    "    flag = True\n",
    "\n",
    "    while (flag):\n",
    "        Topping=input(\"Enter Another Pizza Topping: \")\n",
    "    \n",
    "else:\n",
    "    print(\"Dear Cutomer, You are enter incorrect Size, Contact us later, Good Bye\")\n"
   ]
  }
 ],
 "metadata": {
  "kernelspec": {
   "display_name": "Python 3",
   "language": "python",
   "name": "python3"
  },
  "language_info": {
   "codemirror_mode": {
    "name": "ipython",
    "version": 3
   },
   "file_extension": ".py",
   "mimetype": "text/x-python",
   "name": "python",
   "nbconvert_exporter": "python",
   "pygments_lexer": "ipython3",
   "version": "3.7.4"
  }
 },
 "nbformat": 4,
 "nbformat_minor": 2
}
