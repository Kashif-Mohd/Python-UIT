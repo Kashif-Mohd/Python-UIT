{
 "cells": [
  {
   "cell_type": "code",
   "execution_count": 25,
   "metadata": {},
   "outputs": [
    {
     "name": "stdout",
     "output_type": "stream",
     "text": [
      "List of Divisible by 7 and not Multiply by 5: [2002, 2009, 2016, 2023, 2037, 2044, 2051, 2058, 2072, 2079, 2086, 2093, 2107, 2114, 2121, 2128, 2142, 2149, 2156, 2163, 2177, 2184, 2191, 2198, 2212, 2219, 2226, 2233, 2247, 2254, 2261, 2268, 2282, 2289, 2296, 2303, 2317, 2324, 2331, 2338, 2352, 2359, 2366, 2373, 2387, 2394, 2401, 2408, 2422, 2429, 2436, 2443, 2457, 2464, 2471, 2478, 2492, 2499, 2506, 2513, 2527, 2534, 2541, 2548, 2562, 2569, 2576, 2583, 2597, 2604, 2611, 2618, 2632, 2639, 2646, 2653, 2667, 2674, 2681, 2688, 2702, 2709, 2716, 2723, 2737, 2744, 2751, 2758, 2772, 2779, 2786, 2793, 2807, 2814, 2821, 2828, 2842, 2849, 2856, 2863, 2877, 2884, 2891, 2898, 2912, 2919, 2926, 2933, 2947, 2954, 2961, 2968, 2982, 2989, 2996, 3003, 3017, 3024, 3031, 3038, 3052, 3059, 3066, 3073, 3087, 3094, 3101, 3108, 3122, 3129, 3136, 3143, 3157, 3164, 3171, 3178, 3192, 3199]\n"
     ]
    }
   ],
   "source": [
    "list=[]\n",
    "\n",
    "for i in range (2000,3201):\n",
    "    if(i%7==0) and (i%5!=0):\n",
    "        list.append(i)\n",
    "        \n",
    "print('List of Divisible by 7 and not Multiply by 5: ' + str(list))\n"
   ]
  },
  {
   "cell_type": "markdown",
   "metadata": {},
   "source": [
    "# While Loop "
   ]
  },
  {
   "cell_type": "code",
   "execution_count": null,
   "metadata": {},
   "outputs": [],
   "source": [
    "flask= True\n",
    "while flask:\n",
    "    num=input(\"Enter your Fvr8 Number: \")\n",
    "    print(num)\n",
    "    if(num==\"quit\"):\n",
    "        flask=False\n",
    "        "
   ]
  },
  {
   "cell_type": "code",
   "execution_count": null,
   "metadata": {},
   "outputs": [],
   "source": [
    "emp=[]\n",
    "good_emp=[]\n",
    "bad_emp=[]\n",
    "\n",
    "Exit= True\n",
    "while Exit:\n",
    "    employee=input(\"Enter your Employee Name: \")\n",
    "    if(employee==\"quit\"):\n",
    "        Exit=False\n",
    "    else:         \n",
    "        emp.append(employee)\n",
    "        if(employee[0]==\"s\"):\n",
    "            good_emp.append(employee)\n",
    "        else:\n",
    "            bad_emp.append(employee)\n",
    "            \n",
    "\n",
    "print('Employee: '+ str(emp));\n",
    "print('Good Employee: '+ str(good_emp));\n",
    "print('Bad Employee: '+ str(bad_emp));"
   ]
  },
  {
   "cell_type": "code",
   "execution_count": 1,
   "metadata": {},
   "outputs": [
    {
     "name": "stdout",
     "output_type": "stream",
     "text": [
      "Enter your Employee Name: Usama\n",
      "Enter your Sales Amount: 5600\n",
      "Enter your Employee Name: kashif\n",
      "Enter your Sales Amount: 4000\n",
      "Enter your Employee Name: jibran\n",
      "Enter your Sales Amount: 700\n",
      "Enter your Employee Name: q\n",
      "Employee: ['Usama', 'kashif', 'jibran']\n",
      "\n",
      "\n",
      "Good Employee: ['Usama']\n",
      "Average Employee: ['kashif']\n",
      "Bad Employee: ['jibran']\n"
     ]
    }
   ],
   "source": [
    "emp=[]\n",
    "sales=[]\n",
    "good_emp=[]\n",
    "avg_emp=[]\n",
    "bad_emp=[]\n",
    "\n",
    "Exit= True\n",
    "while Exit:\n",
    "    employee=input(\"Enter your Employee Name: \")\n",
    "    if(employee==\"q\"):\n",
    "        Exit=False\n",
    "    else:         \n",
    "        sales_amount=int(input(\"Enter your Sales Amount: \"))\n",
    "        emp.append(employee)\n",
    "        sales.append(sales_amount)\n",
    "        if(sales_amount>=5000):\n",
    "            good_emp.append(employee)\n",
    "        elif(sales_amount>=1000 and sales_amount<5000):\n",
    "            avg_emp.append(employee)\n",
    "        else:\n",
    "            bad_emp.append(employee)\n",
    "            \n",
    "\n",
    "print('Employee: '+ str(emp),end='\\n\\n\\n');\n",
    "print('Good Employee: '+ str(good_emp));\n",
    "print('Average Employee: '+ str(avg_emp));\n",
    "print('Bad Employee: '+ str(bad_emp));"
   ]
  },
  {
   "cell_type": "code",
   "execution_count": null,
   "metadata": {},
   "outputs": [],
   "source": []
  }
 ],
 "metadata": {
  "kernelspec": {
   "display_name": "Python 3",
   "language": "python",
   "name": "python3"
  },
  "language_info": {
   "codemirror_mode": {
    "name": "ipython",
    "version": 3
   },
   "file_extension": ".py",
   "mimetype": "text/x-python",
   "name": "python",
   "nbconvert_exporter": "python",
   "pygments_lexer": "ipython3",
   "version": "3.7.4"
  }
 },
 "nbformat": 4,
 "nbformat_minor": 2
}
