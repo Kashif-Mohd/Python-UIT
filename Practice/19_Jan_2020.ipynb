{
 "cells": [
  {
   "cell_type": "code",
   "execution_count": 31,
   "metadata": {},
   "outputs": [],
   "source": [
    "st_rec={'st_nm':['ali','usama','jibran','alishan'],'marks':['80/100','70/100','0/100','98/100'],\n",
    "}"
   ]
  },
  {
   "cell_type": "code",
   "execution_count": 38,
   "metadata": {},
   "outputs": [
    {
     "name": "stdout",
     "output_type": "stream",
     "text": [
      "['ali', 'usama', 'jibran', 'alishan']\n",
      "['80/100', '70/100', '0/100', '98/100']\n"
     ]
    }
   ],
   "source": [
    "print(st_rec['st_nm'])\n",
    "print(st_rec['marks'])"
   ]
  },
  {
   "cell_type": "code",
   "execution_count": 58,
   "metadata": {},
   "outputs": [
    {
     "name": "stdout",
     "output_type": "stream",
     "text": [
      "st_nm\t\n",
      "\n",
      "['ali', 'usama', 'jibran', 'alishan']marks\t\n",
      "\n",
      "['80/100', '70/100', '0/100', '98/100']"
     ]
    }
   ],
   "source": [
    "for a,b in st_rec.items():\n",
    "    print(a,end='\\t')\n",
    "    print('\\n')\n",
    "    print(b,end='')\n",
    "    "
   ]
  },
  {
   "cell_type": "code",
   "execution_count": 97,
   "metadata": {},
   "outputs": [],
   "source": [
    "st_rec1={'st_nm':['ali','usama','jibran','alishan'],\n",
    "         'marks':['80/100','70/100','0/100','98/100',{'new1':[1,2,3,4,5]}]\n",
    "}"
   ]
  },
  {
   "cell_type": "code",
   "execution_count": 99,
   "metadata": {},
   "outputs": [
    {
     "data": {
      "text/plain": [
       "{'st_nm': ['ali', 'usama', 'jibran', 'alishan'],\n",
       " 'marks': ['80/100', '70/100', '0/100', '98/100', {'new1': [1, 2, 3, 4, 5]}]}"
      ]
     },
     "execution_count": 99,
     "metadata": {},
     "output_type": "execute_result"
    }
   ],
   "source": [
    "st_rec1"
   ]
  },
  {
   "cell_type": "code",
   "execution_count": 102,
   "metadata": {},
   "outputs": [
    {
     "name": "stdout",
     "output_type": "stream",
     "text": [
      "80/100\n",
      "70/100\n",
      "0/100\n",
      "98/100\n",
      "{'new1': [1, 2, 3, 4, 5]}\n"
     ]
    }
   ],
   "source": [
    "for valll in st_rec1['marks']:\n",
    "    print(valll)\n"
   ]
  },
  {
   "cell_type": "code",
   "execution_count": 146,
   "metadata": {},
   "outputs": [],
   "source": [
    "def identity(a):\n",
    "    if(a%2==0):\n",
    "        print(\"even value\")\n",
    "    else:\n",
    "        print(\"odd value\")\n",
    "    "
   ]
  },
  {
   "cell_type": "code",
   "execution_count": 150,
   "metadata": {},
   "outputs": [
    {
     "name": "stdout",
     "output_type": "stream",
     "text": [
      "EnterValue: 4\n",
      "even value\n"
     ]
    }
   ],
   "source": [
    "\n",
    "identity(int(input(\"EnterValue: \")))"
   ]
  },
  {
   "cell_type": "code",
   "execution_count": 185,
   "metadata": {},
   "outputs": [
    {
     "name": "stdout",
     "output_type": "stream",
     "text": [
      "Enter First Value: 4\n",
      "Enter Sign: *\n",
      "Enter Second Value: 4\n",
      "16\n"
     ]
    }
   ],
   "source": [
    "\n",
    "\n",
    "def calculator(val1,val2,val3):\n",
    "    if (val2==\"*\"):\n",
    "        print(val1*val3)\n",
    "    elif (val2==\"-\"):\n",
    "        print(val1-val3)\n",
    "    elif (val2==\"/\"):\n",
    "        print(val1/val3)\n",
    "    elif (val2==\"+\"):\n",
    "        print(val1+val3)\n",
    "    \n",
    "    \n",
    "    \n",
    "calculator(int(input('Enter First Value: ')),input('Enter Sign: '),int(input('Enter Second Value: ')))"
   ]
  },
  {
   "cell_type": "code",
   "execution_count": 183,
   "metadata": {},
   "outputs": [
    {
     "ename": "SyntaxError",
     "evalue": "invalid syntax (<ipython-input-183-f7820b800b9f>, line 4)",
     "output_type": "error",
     "traceback": [
      "\u001b[1;36m  File \u001b[1;32m\"<ipython-input-183-f7820b800b9f>\"\u001b[1;36m, line \u001b[1;32m4\u001b[0m\n\u001b[1;33m    print ops[\"+\"](1,1) # prints 2\u001b[0m\n\u001b[1;37m            ^\u001b[0m\n\u001b[1;31mSyntaxError\u001b[0m\u001b[1;31m:\u001b[0m invalid syntax\n"
     ]
    }
   ],
   "source": [
    "import operator\n",
    "ops = { \"+\": operator.add, \"-\": operator.sub } # etc.\n",
    "\n",
    "\n",
    "\n",
    "print ops[\"+\"](1,1) # prints 2 \n",
    "\n"
   ]
  }
 ],
 "metadata": {
  "kernelspec": {
   "display_name": "Python 3",
   "language": "python",
   "name": "python3"
  },
  "language_info": {
   "codemirror_mode": {
    "name": "ipython",
    "version": 3
   },
   "file_extension": ".py",
   "mimetype": "text/x-python",
   "name": "python",
   "nbconvert_exporter": "python",
   "pygments_lexer": "ipython3",
   "version": "3.7.4"
  }
 },
 "nbformat": 4,
 "nbformat_minor": 2
}
