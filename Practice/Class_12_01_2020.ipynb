{
 "cells": [
  {
   "cell_type": "markdown",
   "metadata": {},
   "source": [
    "# Dictionary"
   ]
  },
  {
   "cell_type": "code",
   "execution_count": null,
   "metadata": {},
   "outputs": [],
   "source": [
    "dict2={\"name\": input(\"Enter Name: \"),\"father_name\": input(\"Enter Father Name: \"),\"Roll Num\": int(input(\"Enter Roll No: \")),\"phone\": input(\"Enter Phone: \")}\n",
    "\n",
    "print(\"\\n\\n\\n\",dict2)"
   ]
  },
  {
   "cell_type": "code",
   "execution_count": null,
   "metadata": {},
   "outputs": [],
   "source": [
    "emp_info={\"name\": input(\"Enter Name: \"),\"father_name\": input(\"Enter Father Name: \"),\"Roll Num\": int(input(\"Enter Roll No: \"))}\n",
    "\n",
    "emp_admin=[]\n",
    "\n",
    "emp_admin.append(emp_info)\n",
    "\n",
    "\n",
    "emp_admin\n",
    "\n",
    "\n",
    "\n"
   ]
  },
  {
   "cell_type": "code",
   "execution_count": 4,
   "metadata": {},
   "outputs": [
    {
     "name": "stdout",
     "output_type": "stream",
     "text": [
      "Enter Name: 121\n",
      "Enter Father Name: 2121\n",
      "Enter Roll No: 2121\n",
      "===============================\n",
      "Enter Name: 1212\n",
      "Enter Father Name: 121\n",
      "Enter Roll No: 2121\n",
      "===============================\n",
      "Enter Name: 2121\n",
      "Enter Father Name: 1212\n",
      "Enter Roll No: 2121\n",
      "===============================\n",
      "Enter Name: 2121\n",
      "Enter Father Name: 2121\n",
      "Enter Roll No: 2121\n",
      "===============================\n",
      "Enter Name: 2121\n",
      "Enter Father Name: 2121\n",
      "Enter Roll No: 12121\n",
      "===============================\n",
      "You want to quit (y/n)n\n",
      "Enter Name: 2121\n",
      "Enter Father Name: 2121\n",
      "Enter Roll No: 2121\n",
      "===============================\n",
      "You want to quit (y/n)n\n",
      "Enter Name: 2121\n",
      "Enter Father Name: 2121\n",
      "Enter Roll No: 212\n",
      "===============================\n",
      "You want to quit (y/n)y\n"
     ]
    },
    {
     "data": {
      "text/plain": [
       "[{'name': '121', 'father_name': '2121', 'Roll Num': 2121},\n",
       " {'name': '1212', 'father_name': '121', 'Roll Num': 2121},\n",
       " {'name': '2121', 'father_name': '1212', 'Roll Num': 2121},\n",
       " {'name': '2121', 'father_name': '2121', 'Roll Num': 2121},\n",
       " {'name': '2121', 'father_name': '2121', 'Roll Num': 12121},\n",
       " {'name': '2121', 'father_name': '2121', 'Roll Num': 2121},\n",
       " {'name': '2121', 'father_name': '2121', 'Roll Num': 212}]"
      ]
     },
     "execution_count": 4,
     "metadata": {},
     "output_type": "execute_result"
    }
   ],
   "source": [
    "emp_admin=[]\n",
    "\n",
    "while True:\n",
    "    emp_info={\"name\": input(\"Enter Name: \"),\"father_name\": input(\"Enter Father Name: \"),\"Roll Num\": int(input(\"Enter Roll No: \"))}\n",
    "    print(\"===============================\")\n",
    "    emp_admin.append(emp_info)\n",
    "    if len(emp_admin)>=5:\n",
    "        user=input(\"You want to quit (y/n)\")\n",
    "        if user==\"y\":\n",
    "            break\n",
    "\n",
    "emp_admin\n",
    "\n",
    "\n"
   ]
  }
 ],
 "metadata": {
  "kernelspec": {
   "display_name": "Python 3",
   "language": "python",
   "name": "python3"
  },
  "language_info": {
   "codemirror_mode": {
    "name": "ipython",
    "version": 3
   },
   "file_extension": ".py",
   "mimetype": "text/x-python",
   "name": "python",
   "nbconvert_exporter": "python",
   "pygments_lexer": "ipython3",
   "version": "3.7.4"
  }
 },
 "nbformat": 4,
 "nbformat_minor": 2
}
