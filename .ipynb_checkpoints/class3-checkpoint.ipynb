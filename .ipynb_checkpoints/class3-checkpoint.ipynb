{
 "cells": [
  {
   "cell_type": "code",
   "execution_count": 17,
   "metadata": {},
   "outputs": [
    {
     "name": "stdout",
     "output_type": "stream",
     "text": [
      "Enter any number3\n",
      "Odd 3\n"
     ]
    }
   ],
   "source": [
    "num = int(input(\"Enter any number\"))\n",
    "\n",
    "if (num%2==0):\n",
    "    print(f\"Even {num}\")\n",
    "else:\n",
    "    print(f\"Odd {num}\")\n"
   ]
  },
  {
   "cell_type": "code",
   "execution_count": 63,
   "metadata": {},
   "outputs": [
    {
     "data": {
      "text/plain": [
       "['Usama', 333, 323, 22.2, True, ['Kashif', 1.4, 11], 'USama']"
      ]
     },
     "execution_count": 63,
     "metadata": {},
     "output_type": "execute_result"
    }
   ],
   "source": [
    "employees =[\"Usama\",323,22.2,True,[\"Kashif\",1.4,11]];\n",
    "\n",
    "employees[4][1]\n",
    "\n",
    "\n",
    "employees.insert(1,333)\n",
    "employees\n",
    "\n",
    "employees.append(\"USama\")\n",
    "\n",
    "employees\n",
    "\n",
    "ppp=employees\n",
    "\n",
    "ppp\n",
    "\n"
   ]
  },
  {
   "cell_type": "markdown",
   "metadata": {},
   "source": [
    "# Slicing     List[0 : 11 : 3]    \n",
    "\n",
    "            List[indexing : indexing : step] "
   ]
  },
  {
   "cell_type": "code",
   "execution_count": 1,
   "metadata": {},
   "outputs": [
    {
     "data": {
      "text/plain": [
       "[4, 55]"
      ]
     },
     "execution_count": 1,
     "metadata": {},
     "output_type": "execute_result"
    }
   ],
   "source": [
    "ListItem= [1, 2, 4, 7, 55, 99]\n",
    "        #  0  1  2  3  4   5\n",
    "        # -6 -5 -4 -3 -2  -1           \n",
    "\n",
    "        \n",
    "ListItem[2:10:2]\n",
    "\n"
   ]
  }
 ],
 "metadata": {
  "kernelspec": {
   "display_name": "Python 3",
   "language": "python",
   "name": "python3"
  },
  "language_info": {
   "codemirror_mode": {
    "name": "ipython",
    "version": 3
   },
   "file_extension": ".py",
   "mimetype": "text/x-python",
   "name": "python",
   "nbconvert_exporter": "python",
   "pygments_lexer": "ipython3",
   "version": "3.7.4"
  }
 },
 "nbformat": 4,
 "nbformat_minor": 2
}
