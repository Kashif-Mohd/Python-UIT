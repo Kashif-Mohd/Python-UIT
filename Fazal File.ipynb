{
 "cells": [
  {
   "cell_type": "code",
   "execution_count": null,
   "metadata": {},
   "outputs": [],
   "source": [
    "fazal=[]"
   ]
  },
  {
   "cell_type": "code",
   "execution_count": 84,
   "metadata": {},
   "outputs": [
    {
     "name": "stdout",
     "output_type": "stream",
     "text": [
      "(1, 'Data Input Operator')\n",
      "(2, 'Software Developer')\n",
      "(6, 'Senior Research Associate')\n"
     ]
    }
   ],
   "source": [
    "import pypyodbc\n",
    "\n",
    "server='KASHIF-PC'\n",
    "database='attendance'\n",
    "\n",
    "\n",
    "\n",
    "cnxn = pypyodbc.connect('DRIVER={SQL Server};SERVER='+server+';DATABASE='+database)\n",
    "cursor = cnxn.cursor()\n",
    "\n",
    "\n",
    "\n",
    "cursor.execute(\"SELECT * FROM emp_designation;\") \n",
    "row = cursor.fetchone() \n",
    "while row: \n",
    "    print(row)\n",
    "    \n",
    "    row = cursor.fetchone()\n"
   ]
  },
  {
   "cell_type": "code",
   "execution_count": 30,
   "metadata": {},
   "outputs": [
    {
     "name": "stdout",
     "output_type": "stream",
     "text": [
      "[(1, 'MUHAMMAD KASHIF', '067', '067', 'Standard', '1'), (2, 'admin', 'admin', 'ka.1234', 'Admin', '1')]\n"
     ]
    }
   ],
   "source": [
    "print(fazal)"
   ]
  },
  {
   "cell_type": "code",
   "execution_count": 48,
   "metadata": {},
   "outputs": [
    {
     "name": "stdout",
     "output_type": "stream",
     "text": [
      "['apple', 'blackcurrant', 'cherry']\n"
     ]
    }
   ],
   "source": [
    "thislist = [\"apple\", \"banana\", \"cherry\"]\n",
    "thislist[1] = \"blackcurrant\"\n",
    "print(thislist)\n",
    "\n",
    "\n",
    "\n",
    "\n"
   ]
  },
  {
   "cell_type": "code",
   "execution_count": 74,
   "metadata": {},
   "outputs": [
    {
     "name": "stdout",
     "output_type": "stream",
     "text": [
      "['a', 'b', 'c', 1, 2, 3]\n"
     ]
    }
   ],
   "source": [
    "list2 = ['a', \"b\" , \"c\"];\n",
    "list1 = [1, 2, 3]\n",
    "\n",
    "list3 = list2 + list1\n",
    "print(list3)\n"
   ]
  },
  {
   "cell_type": "code",
   "execution_count": 83,
   "metadata": {},
   "outputs": [
    {
     "name": "stdout",
     "output_type": "stream",
     "text": [
      "[1, 2, 3, 'a', 'b', 'c', 11, 22]\n"
     ]
    }
   ],
   "source": [
    "list1 = [\"a\", \"b\" , \"c\"]\n",
    "list2 = [1, 2, 3,]\n",
    "list3=[11,22]\n",
    "\n",
    "list2.extend(list1)\n",
    "list2.extend(list3)\n",
    "\n",
    "print(list2)"
   ]
  }
 ],
 "metadata": {
  "kernelspec": {
   "display_name": "Python 3",
   "language": "python",
   "name": "python3"
  },
  "language_info": {
   "codemirror_mode": {
    "name": "ipython",
    "version": 3
   },
   "file_extension": ".py",
   "mimetype": "text/x-python",
   "name": "python",
   "nbconvert_exporter": "python",
   "pygments_lexer": "ipython3",
   "version": "3.7.4"
  }
 },
 "nbformat": 4,
 "nbformat_minor": 2
}
